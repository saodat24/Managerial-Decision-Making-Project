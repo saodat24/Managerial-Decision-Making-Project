{
 "cells": [
  {
   "cell_type": "code",
   "execution_count": 1,
   "metadata": {},
   "outputs": [],
   "source": [
    "import yfinance as yf\n",
    "import pandas as pd\n",
    "import os\n",
    "\n",
    "def load_save_data(ticker, start_date, end_date, folder_path):\n",
    "    if not os.path.exists(folder_path):\n",
    "        os.makedirs(folder_path)\n",
    "\n",
    "    stock_data = yf.download(ticker, start=start_date, end=end_date)\n",
    "    stock_data.to_csv(os.path.join(folder_path, f\"{ticker}_OHLC.csv\"))\n",
    "\n",
    "start_date = \"2014-01-01\"\n",
    "end_date = \"2024-03-09\""
   ]
  },
  {
   "cell_type": "code",
   "execution_count": 2,
   "metadata": {},
   "outputs": [
    {
     "name": "stderr",
     "output_type": "stream",
     "text": [
      "[*********************100%%**********************]  1 of 1 completed\n",
      "[*********************100%%**********************]  1 of 1 completed\n",
      "[*********************100%%**********************]  1 of 1 completed\n",
      "[*********************100%%**********************]  1 of 1 completed\n",
      "[*********************100%%**********************]  1 of 1 completed\n"
     ]
    }
   ],
   "source": [
    "# - STOCKS\n",
    "# AAPL - Apple Inc.\n",
    "# MSFT - Microsoft Corporation\n",
    "# AMZN - Amazon.com, Inc.\n",
    "# GOOGL - Alphabet Inc. (Google)\n",
    "# NVDA - NVIDIA Corporation\n",
    "tickers = [\"AAPL\", \"MSFT\", \"AMZN\", \"GOOGL\", \"NVDA\"]\n",
    "folder_path = \"data/stocks\"\n",
    "for ticker in tickers:\n",
    "    load_save_data(ticker, start_date, end_date, folder_path)"
   ]
  },
  {
   "cell_type": "code",
   "execution_count": null,
   "metadata": {},
   "outputs": [],
   "source": [
    "# - COMMODITIES\n",
    "# GC=F - Gold Futures\n",
    "# SI=F - Silver Futures\n",
    "# CL=F - Crude Oil Futures\n",
    "# NG=F - Natural Gas Futures\n",
    "# HG=F - Copper Futures\n",
    "commodities = [\"GC=F\", \"SI=F\", \"CL=F\", \"NG=F\", \"HG=F\"]\n",
    "folder_path = \"data/commodities\"\n",
    "for commodity in commodities:\n",
    "    load_save_data(commodity, start_date, end_date, folder_path)    "
   ]
  },
  {
   "cell_type": "code",
   "execution_count": 14,
   "metadata": {},
   "outputs": [
    {
     "name": "stderr",
     "output_type": "stream",
     "text": [
      "[*********************100%%**********************]  1 of 1 completed\n",
      "[*********************100%%**********************]  1 of 1 completed\n",
      "[*********************100%%**********************]  1 of 1 completed\n",
      "[*********************100%%**********************]  1 of 1 completed\n",
      "[*********************100%%**********************]  1 of 1 completed\n",
      "[*********************100%%**********************]  1 of 1 completed\n",
      "[*********************100%%**********************]  1 of 1 completed\n",
      "\n",
      "1 Failed download:\n",
      "['DOT1-USD']: Exception('%ticker%: No price data found, symbol may be delisted (1d 2014-01-01 -> 2024-03-09)')\n",
      "[*********************100%%**********************]  1 of 1 completed\n",
      "[*********************100%%**********************]  1 of 1 completed\n",
      "[*********************100%%**********************]  1 of 1 completed\n"
     ]
    }
   ],
   "source": [
    "# - Cryptos \n",
    "# BTC-USD - Bitcoin (BTC)\n",
    "# ETH-USD - Ethereum (ETH)\n",
    "# XRP-USD - Ripple (XRP)\n",
    "# LTC-USD - Litecoin (LTC)\n",
    "# BCH-USD - Bitcoin Cash (BCH)\n",
    "# ADA-USD - Cardano (ADA)\n",
    "# XLM-USD - Stellar (XLM)\n",
    "# LINK-USD - Chainlink (LINK)\n",
    "# DOGE-USD - Dogecoin (DOGE)\n",
    "cryptos = [\"BTC-USD\", \"ETH-USD\", \"XRP-USD\", \"LTC-USD\", \"BCH-USD\", \"ADA-USD\", \"XLM-USD\", \"LINK-USD\", \"DOGE-USD\"]\n",
    "folder_path = \"data/crypto\"\n",
    "\n",
    "for crypto in cryptos:\n",
    "    load_save_data(crypto, start_date, end_date, folder_path)"
   ]
  },
  {
   "cell_type": "code",
   "execution_count": 15,
   "metadata": {},
   "outputs": [
    {
     "name": "stderr",
     "output_type": "stream",
     "text": [
      "[*********************100%%**********************]  1 of 1 completed\n",
      "[*********************100%%**********************]  1 of 1 completed\n",
      "[*********************100%%**********************]  1 of 1 completed\n",
      "[*********************100%%**********************]  1 of 1 completed\n",
      "[*********************100%%**********************]  1 of 1 completed\n",
      "[*********************100%%**********************]  1 of 1 completed\n",
      "[*********************100%%**********************]  1 of 1 completed\n",
      "[*********************100%%**********************]  1 of 1 completed\n",
      "[*********************100%%**********************]  1 of 1 completed\n",
      "[*********************100%%**********************]  1 of 1 completed\n"
     ]
    }
   ],
   "source": [
    "# - INDICES\n",
    "# ^GSPC - S&P 500\n",
    "# ^IXIC - NASDAQ Composite\n",
    "# ^DJI - Dow Jones Industrial Average\n",
    "# ^RUT - Russell 2000\n",
    "# ^FTSE - FTSE 100\n",
    "# ^N225 - Nikkei 225\n",
    "# ^HSI - Hang Seng Index\n",
    "# ^GDAXI - DAX Performance Index\n",
    "# ^FCHI - CAC 40\n",
    "# ^BSESN - BSE Sensex\n",
    "indices = [\"^GSPC\", \"^IXIC\", \"^DJI\", \"^RUT\", \"^FTSE\", \"^N225\", \"^HSI\", \"^GDAXI\", \"^FCHI\", \"^BSESN\"]\n",
    "folder_path = \"data/indices\"\n",
    "\n",
    "for index in indices:\n",
    "    load_save_data(index, start_date, end_date, folder_path)"
   ]
  },
  {
   "cell_type": "code",
   "execution_count": 16,
   "metadata": {},
   "outputs": [
    {
     "name": "stderr",
     "output_type": "stream",
     "text": [
      "[*********************100%%**********************]  1 of 1 completed\n",
      "[*********************100%%**********************]  1 of 1 completed\n",
      "[*********************100%%**********************]  1 of 1 completed\n",
      "[*********************100%%**********************]  1 of 1 completed\n",
      "[*********************100%%**********************]  1 of 1 completed\n"
     ]
    }
   ],
   "source": [
    "#- Bonds ETFs\n",
    "# TLT - iShares 20+ Year Treasury Bond ETF\n",
    "# LQD - iShares iBoxx $ Investment Grade Corporate Bond ETF\n",
    "# BND - Vanguard Total Bond Market ETF\n",
    "# TIP - iShares TIPS Bond ETF\n",
    "# JNK - SPDR Bloomberg Barclays High Yield Bond ETF\n",
    "\n",
    "bond_etfs = [\"TLT\", \"LQD\", \"BND\", \"TIP\", \"JNK\"]\n",
    "folder_path = \"data/bond_etf\"\n",
    "\n",
    "for bond_etf in bond_etfs:\n",
    "    load_save_data(bond_etf, start_date, end_date, folder_path)"
   ]
  }
 ],
 "metadata": {
  "kernelspec": {
   "display_name": "Python 3",
   "language": "python",
   "name": "python3"
  },
  "language_info": {
   "codemirror_mode": {
    "name": "ipython",
    "version": 3
   },
   "file_extension": ".py",
   "mimetype": "text/x-python",
   "name": "python",
   "nbconvert_exporter": "python",
   "pygments_lexer": "ipython3",
   "version": "3.11.4"
  }
 },
 "nbformat": 4,
 "nbformat_minor": 2
}
